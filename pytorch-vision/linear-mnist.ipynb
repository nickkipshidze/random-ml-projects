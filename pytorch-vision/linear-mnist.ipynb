{
 "cells": [
  {
   "cell_type": "markdown",
   "metadata": {},
   "source": [
    "# Multi-layer perceptron for classifying handwritten digits\n",
    "\n",
    "In this notebook I will be using one of MNIST datasets to train a linear multi-layer perceptron to classify handwritten digits."
   ]
  },
  {
   "cell_type": "code",
   "execution_count": 1,
   "metadata": {},
   "outputs": [],
   "source": [
    "import torch, torchvision\n",
    "from torch import nn\n",
    "from torchvision import datasets\n",
    "\n",
    "import matplotlib.pyplot as plt\n",
    "%matplotlib inline"
   ]
  },
  {
   "cell_type": "markdown",
   "metadata": {},
   "source": [
    "### Fetch all the data\n",
    "\n",
    "Yummy yummy data"
   ]
  },
  {
   "cell_type": "code",
   "execution_count": 2,
   "metadata": {},
   "outputs": [],
   "source": [
    "train_data = datasets.MNIST(\n",
    "    root=\".datasets\",\n",
    "    train=True,\n",
    "    download=True,\n",
    "    transform=torchvision.transforms.ToTensor(),\n",
    "    target_transform=None\n",
    ")\n",
    "\n",
    "test_data = datasets.MNIST(\n",
    "    root=\".datasets\",\n",
    "    train=False,\n",
    "    download=True,\n",
    "    transform=torchvision.transforms.ToTensor(),\n",
    "    target_transform=None\n",
    ")"
   ]
  },
  {
   "cell_type": "markdown",
   "metadata": {},
   "source": [
    "### Lemmie show you all the data\n",
    "\n",
    "Come with me, and you will see... A WORLD OF DATA ANALYTICS!"
   ]
  },
  {
   "cell_type": "code",
   "execution_count": 3,
   "metadata": {},
   "outputs": [
    {
     "name": "stdout",
     "output_type": "stream",
     "text": [
      "Image shape: torch.Size([1, 28, 28])\n"
     ]
    },
    {
     "data": {
      "image/png": "[encoded data removed]",
      "text/plain": [
       "<Figure size 640x480 with 4 Axes>"
      ]
     },
     "metadata": {},
     "output_type": "display_data"
    }
   ],
   "source": [
    "image, label = train_data[0]\n",
    "\n",
    "print(\"Image shape:\", image.shape)\n",
    "\n",
    "for i in range(0, 4):\n",
    "    image, label = train_data[i]\n",
    "    plt.subplot(2, 2, i+1)\n",
    "    plt.axis(\"off\")\n",
    "    plt.title(f\"Label: {label}\")\n",
    "    plt.imshow(image.squeeze())"
   ]
  },
  {
   "cell_type": "markdown",
   "metadata": {},
   "source": [
    "Now we turn all that data into a Python iterable. This just makes it possible to train it in a training loop, in batches too!"
   ]
  },
  {
   "cell_type": "code",
   "execution_count": 4,
   "metadata": {},
   "outputs": [
    {
     "data": {
      "text/plain": [
       "(<torch.utils.data.dataloader.DataLoader at 0x79abb099adb0>,\n",
       " <torch.utils.data.dataloader.DataLoader at 0x79ac1ff251c0>)"
      ]
     },
     "execution_count": 4,
     "metadata": {},
     "output_type": "execute_result"
    }
   ],
   "source": [
    "train_dataloader = torch.utils.data.DataLoader(\n",
    "    dataset=train_data,\n",
    "    batch_size=32,\n",
    "    shuffle=True\n",
    ")\n",
    "\n",
    "test_dataloader = torch.utils.data.DataLoader(\n",
    "    dataset=test_data,\n",
    "    batch_size=32,\n",
    "    shuffle=False\n",
    ")\n",
    "\n",
    "train_dataloader, test_dataloader"
   ]
  },
  {
   "cell_type": "markdown",
   "metadata": {},
   "source": [
    "### The model\n",
    "\n",
    "The crown jewel of this notebook.\n",
    "\n",
    "Might as well clarify one thing. The reason why I am more communicative in these notebooks is because computer vision is a lot more interesting than fitting data points or fitting SciKit-learn's toy datasets."
   ]
  },
  {
   "cell_type": "code",
   "execution_count": 5,
   "metadata": {},
   "outputs": [],
   "source": [
    "class MLPModelV0(nn.Module):\n",
    "    def __init__(self, in_shape, hidden_units, out_shape):\n",
    "        super().__init__()\n",
    "        self.layer_stack = nn.Sequential(\n",
    "            nn.Flatten(),\n",
    "            nn.Linear(in_features=in_shape, out_features=hidden_units),\n",
    "            nn.Linear(in_features=hidden_units, out_features=hidden_units),\n",
    "            nn.Linear(in_features=hidden_units, out_features=hidden_units),\n",
    "            nn.Linear(in_features=hidden_units, out_features=out_shape)\n",
    "        )\n",
    "    \n",
    "    def forward(self, X):\n",
    "        return self.layer_stack.forward(X)"
   ]
  },
  {
   "cell_type": "markdown",
   "metadata": {},
   "source": [
    "Another, rather cute thing you might notice (or not notice) is my naming scheme. It is from the course I learned all this. Here's the link to that course: https://www.udemy.com/course/pytorch-for-deep-learning/\n",
    "\n",
    "Not sponsored haha."
   ]
  },
  {
   "cell_type": "code",
   "execution_count": 6,
   "metadata": {},
   "outputs": [],
   "source": [
    "torch.manual_seed(64)\n",
    "\n",
    "# Now the in_shape value would be however much pixels we have\n",
    "# So that is 28 x 28 which is equal to 784\n",
    "# And 28 x 28 comes from image.shape\n",
    "\n",
    "model = MLPModelV0(\n",
    "    in_shape=28*28,\n",
    "    hidden_units=10,\n",
    "    out_shape=len(train_data.classes)\n",
    ")\n",
    "\n",
    "# model.state_dict()\n",
    "# I am not showing all that! You can run that yourself. Otherwise my notebook will be pretty large due to the output."
   ]
  },
  {
   "cell_type": "markdown",
   "metadata": {},
   "source": [
    "Let's do a dummy forward pass. Just to make sure everything is going in there."
   ]
  },
  {
   "cell_type": "code",
   "execution_count": 7,
   "metadata": {},
   "outputs": [
    {
     "name": "stdout",
     "output_type": "stream",
     "text": [
      "Predicted: 4\n",
      "True label: 1\n"
     ]
    }
   ],
   "source": [
    "train_features_batch, train_labels_batch = next(iter(train_dataloader))\n",
    "\n",
    "y_logits = model.forward(train_features_batch[0])\n",
    "y_true = train_labels_batch[0]\n",
    "\n",
    "y_pred = y_logits.argmax(dim=1)\n",
    "\n",
    "print(\"Predicted:\", y_pred.item())\n",
    "print(\"True label:\", y_true.item())"
   ]
  },
  {
   "cell_type": "markdown",
   "metadata": {},
   "source": [
    "So that was... completly wrong. Which is expected because our model has randomized weights and biases. Let's set those up then."
   ]
  },
  {
   "cell_type": "markdown",
   "metadata": {},
   "source": [
    "### Let's train"
   ]
  },
  {
   "cell_type": "code",
   "execution_count": 8,
   "metadata": {},
   "outputs": [
    {
     "name": "stdout",
     "output_type": "stream",
     "text": [
      "Accuracy: 87.50% | Loss: 0.24748378992080688\n",
      "Accuracy: 93.75% | Loss: 0.19348226487636566\n",
      "Accuracy: 93.75% | Loss: 0.11859528720378876\n",
      "Accuracy: 93.75% | Loss: 0.2476232796907425\n",
      "Accuracy: 93.75% | Loss: 0.1640956699848175\n",
      "Accuracy: 93.75% | Loss: 0.10577325522899628\n",
      "Accuracy: 87.50% | Loss: 0.2908984422683716\n",
      "Accuracy: 93.75% | Loss: 0.29814496636390686\n"
     ]
    }
   ],
   "source": [
    "from sklearn.metrics import accuracy_score\n",
    "\n",
    "loss_fn = nn.CrossEntropyLoss()\n",
    "optimizer = torch.optim.SGD(params=model.parameters(), lr=0.1)\n",
    "epochs = 8\n",
    "\n",
    "# Look at the way I am writing the training and testing loop\n",
    "# That is not the usual stuff! This is batches!\n",
    "\n",
    "for epoch in range(epochs):\n",
    "    for batch, (X, y) in enumerate(train_dataloader):\n",
    "        model.train()\n",
    "        y_logits = model.forward(X)\n",
    "        loss = loss_fn(y_logits, y)\n",
    "        optimizer.zero_grad()\n",
    "        loss.backward()\n",
    "        optimizer.step()\n",
    "    \n",
    "    for batch, (X, y) in enumerate(test_dataloader):\n",
    "        model.eval()\n",
    "        with torch.inference_mode():\n",
    "            y_logits = model.forward(X)\n",
    "            y_pred = y_logits.argmax(dim=1)\n",
    "            loss = loss_fn(y_logits, y)\n",
    "        accuracy = accuracy_score(y, y_pred)\n",
    "    \n",
    "    print(f\"Accuracy: {accuracy*100:.2f}% | Loss: {loss}\")"
   ]
  },
  {
   "cell_type": "markdown",
   "metadata": {},
   "source": [
    "Now that is pretty good. It is reasonable to believe something is up! So let's test it!"
   ]
  },
  {
   "cell_type": "markdown",
   "metadata": {},
   "source": [
    "### Testing our model visually"
   ]
  },
  {
   "cell_type": "code",
   "execution_count": 9,
   "metadata": {},
   "outputs": [
    {
     "name": "stdout",
     "output_type": "stream",
     "text": [
      "Sample label: 7\n",
      "Predicted label: 7\n"
     ]
    },
    {
     "data": {
      "image/png": "[encoded data removed]",
      "text/plain": [
       "<Figure size 640x480 with 1 Axes>"
      ]
     },
     "metadata": {},
     "output_type": "display_data"
    }
   ],
   "source": [
    "test_features_batch, test_labels_batch = next(iter(test_dataloader))\n",
    "\n",
    "randi = torch.randint(0, len(test_labels_batch), (1,)).item()\n",
    "image, label = test_features_batch[randi], test_labels_batch[randi]\n",
    "\n",
    "model.eval()\n",
    "with torch.inference_mode():\n",
    "    y_logits = model.forward(image)\n",
    "    y_pred = y_logits.argmax(dim=1)\n",
    "\n",
    "print(\"Sample label:\", label.item())\n",
    "print(\"Predicted label:\", y_pred.item())\n",
    "\n",
    "plt.title(\"Random sample\")\n",
    "plt.imshow(image.squeeze())\n",
    "plt.show()"
   ]
  },
  {
   "cell_type": "markdown",
   "metadata": {},
   "source": [
    "And it is working splendidly! At `93.75%` accuracy. Although it still makes mistakes. The digits it makes mistakes at, I can't even recognise them, so we can caught it some slack.\n",
    "\n",
    "It was fun!"
   ]
  }
 ],
 "metadata": {
  "kernelspec": {
   "display_name": ".venv",
   "language": "python",
   "name": "python3"
  },
  "language_info": {
   "codemirror_mode": {
    "name": "ipython",
    "version": 3
   },
   "file_extension": ".py",
   "mimetype": "text/x-python",
   "name": "python",
   "nbconvert_exporter": "python",
   "pygments_lexer": "ipython3",
   "version": "3.12.3"
  }
 },
 "nbformat": 4,
 "nbformat_minor": 2
}
